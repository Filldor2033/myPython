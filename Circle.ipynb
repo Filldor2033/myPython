{
  "nbformat": 4,
  "nbformat_minor": 0,
  "metadata": {
    "colab": {
      "provenance": []
    },
    "kernelspec": {
      "name": "python3",
      "display_name": "Python 3"
    },
    "language_info": {
      "name": "python"
    }
  },
  "cells": [
    {
      "cell_type": "code",
      "execution_count": null,
      "metadata": {
        "id": "ayg8rkn0oK5a"
      },
      "outputs": [],
      "source": [
        "print('Расчет площади цилиндра')\n",
        "print('____________________')\n",
        "r=int(input('Введите значение радиуса: '))\n",
        "print('--------------------')\n",
        "print('Площадь цилиндра - ',3.14*r**2)"
      ]
    }
  ]
}