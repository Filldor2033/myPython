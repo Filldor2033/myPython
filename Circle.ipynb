{
  "nbformat": 4,
  "nbformat_minor": 0,
  "metadata": {
    "colab": {
      "provenance": [],
      "authorship_tag": "ABX9TyMBZfX+MKzZFlvcvMKhtVk9",
      "include_colab_link": true
    },
    "kernelspec": {
      "name": "python3",
      "display_name": "Python 3"
    },
    "language_info": {
      "name": "python"
    }
  },
  "cells": [
    {
      "cell_type": "markdown",
      "metadata": {
        "id": "view-in-github",
        "colab_type": "text"
      },
      "source": [
        "<a href=\"https://colab.research.google.com/github/FilldorGaming/myPython/blob/additional/Circle.ipynb\" target=\"_parent\"><img src=\"https://colab.research.google.com/assets/colab-badge.svg\" alt=\"Open In Colab\"/></a>"
      ]
    },
    {
      "cell_type": "code",
      "execution_count": null,
      "metadata": {
        "id": "ayg8rkn0oK5a"
      },
      "outputs": [],
      "source": [
        "print('Расчет площади и объема цилиндра')\n",
        "print('____________________')\n",
        "r=int(input('Введите значение радиуса: '))\n",
        "h=int(input('Введите значение высоты: '))\n",
        "print('--------------------')\n",
        "print('Площадь цилиндра - ',3.14*r**2)\n",
        "print('Обьем цилиндра - ',h*3.14*r**2)"
      ]
    }
  ]
}