{
  "nbformat": 4,
  "nbformat_minor": 0,
  "metadata": {
    "colab": {
      "provenance": [],
      "authorship_tag": "ABX9TyPaN6tAlGkVyujSznxrJRcT",
      "include_colab_link": true
    },
    "kernelspec": {
      "name": "python3",
      "display_name": "Python 3"
    },
    "language_info": {
      "name": "python"
    }
  },
  "cells": [
    {
      "cell_type": "markdown",
      "metadata": {
        "id": "view-in-github",
        "colab_type": "text"
      },
      "source": [
        "<a href=\"https://colab.research.google.com/github/FilldorGaming/myPython/blob/add/17_10_2023.ipynb\" target=\"_parent\"><img src=\"https://colab.research.google.com/assets/colab-badge.svg\" alt=\"Open In Colab\"/></a>"
      ]
    },
    {
      "cell_type": "code",
      "source": [
        "name_=[]\n",
        "date_=[]\n",
        "money_=[]\n",
        "i=1\n",
        "fot=0\n",
        "while i<=2:\n",
        "  print('Введите данные сотрудника №'+str(i)+': ')\n",
        "  name_.append(input('Имя сотрудника: '))\n",
        "  date_.append(int(input('Дата рождения сотрудника в формате ММ: ')))\n",
        "  money_.append(int(input('Заработная плата сотрудника: ')))\n",
        "  i=i+1\n",
        "s1=(name_[0], date_[0], money_[0])\n",
        "s2=(name_[1], date_[1], money_[1])\n",
        "#s3=(name_[2], date_[2], money_[2])\n",
        "#s4=(name_[3], date_[3], money_[3])\n",
        "#s5=(name_[4], date_[4], money_[4])\n",
        "m=input('Введите номер месяца даты рождения сотрудника. Пример: 09 ')\n",
        "m1=input('Какой сейчас месяц: ')\n",
        "if m in s1:\n",
        "  print(s1)\n",
        "  zp1=money_[0]\n",
        "  if m==m1:\n",
        "    zp1=zp1+(zp1*0.25)\n",
        "    print('У этого сотрудника в этом месяце день рождения')\n",
        "    print('Ему полагается премия. Его зп составит:',zp1,'р./мес.')\n",
        "    fot=fot+zp1\n",
        "  else:\n",
        "    fot=fot+money_[0]\n",
        "if m in s2:\n",
        "  print(s2)\n",
        "  zp2=money_[1]\n",
        "  if m==m1:\n",
        "    zp2=zp2+(zp2*0.25)\n",
        "    print('У этого сотрудника в этом месяце день рождения')\n",
        "    print('Ему полагается премия. Его зп составит:',zp2,'р./мес.')\n",
        "    fot=fot+zp2\n",
        "  else:\n",
        "    fot=fot+money_[1]\n",
        "#if m in s3:\n",
        "#  print(s3)\n",
        "#  zp3=money_[2]\n",
        "#  if m==m1:\n",
        "#    zp3=zp3+(zp3*0.25)\n",
        "#    print('У этого сотрудника в этом месяце день рождения')\n",
        "#    print('Ему полагается премия. Его зп составит:',zp3,'р./мес.')\n",
        "#    fot=fot+zp3\n",
        "#  else:\n",
        "#    fot=fot+money_[2]\n",
        "#if m in s4:\n",
        "#  print(s4)\n",
        "#  zp4=money_[3]\n",
        "#  if m==m1:\n",
        "#    zp4=zp4+(zp4*0.25)\n",
        "#    print('У этого сотрудника в этом месяце день рождения')\n",
        "#   print('Ему полагается премия. Его зп составит:',zp4,'р./мес.')\n",
        "#    fot=fot+zp4\n",
        "#  else:\n",
        "#    fot=fot+money_[3]\n",
        "#if m in s5:\n",
        "#  print(s5)\n",
        "#  zp5=money_[4]\n",
        "#  if m==m1:\n",
        "#    zp5=zp5+(zp5*0.25)\n",
        "#    print('У этого сотрудника в этом месяце день рождения')\n",
        "#    print('Ему полагается премия. Его зп составит:',zp5,'р./мес.')\n",
        "#    fot=fot+zp5\n",
        "#  else:\n",
        "#    fot=fot+money_[4]\n",
        "#print('ФОТ за этот месяц составляет:', str(fot))"
      ],
      "metadata": {
        "colab": {
          "base_uri": "https://localhost:8080/"
        },
        "id": "WeZvj74BFnie",
        "outputId": "ee67b2c9-409c-4c07-fcad-45b56e8176cb"
      },
      "execution_count": 21,
      "outputs": [
        {
          "output_type": "stream",
          "name": "stdout",
          "text": [
            "Введите данные сотрудника №1: \n",
            "Имя сотрудника: frgfrg\n",
            "Дата рождения сотрудника в формате ММ: 04\n",
            "Заработная плата сотрудника: 12121\n",
            "Введите данные сотрудника №2: \n",
            "Имя сотрудника: fbfrghrg\n",
            "Дата рождения сотрудника в формате ММ: frhfrgh\n",
            "Заработная плата сотрудника: 12\n",
            "Введите номер месяца. Пример: 09 04\n",
            "('frgfrg', '04', 12121)\n"
          ]
        }
      ]
    }
  ]
}